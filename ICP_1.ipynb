{
 "cells": [
  {
   "cell_type": "markdown",
   "id": "cb9681cd-300e-4517-b808-9d5097448338",
   "metadata": {},
   "source": [
    "Sathyadeep Koundinya Vinnakota\n",
    "700766727"
   ]
  },
  {
   "cell_type": "code",
   "execution_count": 1,
   "id": "74730139-398d-4da9-8f04-e702cab639ca",
   "metadata": {},
   "outputs": [
    {
     "name": "stdin",
     "output_type": "stream",
     "text": [
      "enter your first name  Koundinya\n",
      "enter your last name  Vinnakota\n"
     ]
    },
    {
     "name": "stdout",
     "output_type": "stream",
     "text": [
      "Full name:  Koundinya Vinnakota\n",
      "Every other character KudnaVnaoa\n"
     ]
    }
   ],
   "source": [
    "# Function that joins first name and last name\n",
    "def fullname(first_name, last_name):\n",
    "    return first_name+\" \"+last_name\n",
    "    \n",
    "# Function that returns every alternative character\n",
    "def string_alternative(full_name):\n",
    "    return full_name[::2]\n",
    "    \n",
    "#Main function\n",
    "def main():\n",
    "    #Taking input from the user\n",
    "    first_name=input(\"enter your first name \")\n",
    "    last_name=input(\"enter your last name \")\n",
    "\n",
    "    #Getting fullname using fullname function\n",
    "    full_name=fullname(first_name,last_name)\n",
    "    print(\"Full name: \",full_name)\n",
    "    \n",
    "    #Getting alternative character from string_alternative function\n",
    "    print(\"Every other character\",string_alternative(full_name))\n",
    "\n",
    "if __name__ == \"__main__\":\n",
    "    main()"
   ]
  },
  {
   "cell_type": "code",
   "execution_count": 2,
   "id": "606e12f1-98e9-444e-aad8-f994acbe166a",
   "metadata": {},
   "outputs": [
    {
     "name": "stdout",
     "output_type": "stream",
     "text": [
      "Content of output.txt:\n",
      "Python Course\n",
      "Deep Learning Course\n",
      "\n",
      "Word_Count:\n",
      "Python: 1\n",
      "Course: 2\n",
      "Deep: 1\n",
      "Learning: 1\n",
      "\n"
     ]
    }
   ],
   "source": [
    "from collections import Counter\n",
    "def count_words(filename):\n",
    "    # storing word counts\n",
    "    word_count = Counter()\n",
    "    # storing original lines in a list\n",
    "    lines = []\n",
    "    # Reading input file \n",
    "    with open(filename, 'r') as file:\n",
    "        for line in file:\n",
    "            # Split the line into words by removing white spaces\n",
    "            words = line.strip().split()\n",
    "            # Adding line to list\n",
    "            lines.append(line.strip())\n",
    "            # Updating the word count\n",
    "            word_count.update(words)\n",
    "    return lines, word_count\n",
    "\n",
    "def output(lines, word_count, output_filename):\n",
    "    with open(output_filename, 'w') as file:\n",
    "        # Write original lines\n",
    "        for line in lines:\n",
    "            file.write(f\"{line}\\n\")\n",
    "        # Write word count\n",
    "        file.write(\"Word_Count:\\n\")\n",
    "        for word, count in word_count.items():\n",
    "            file.write(f\"{word}: {count}\\n\")\n",
    "\n",
    "def main():\n",
    "    input_filename='input.txt'\n",
    "    output_filename='output.txt'\n",
    "    # Count words and get original lines\n",
    "    lines, word_count=count_words(input_filename)\n",
    "    # Write to output file\n",
    "    output(lines, word_count, output_filename)\n",
    "    # Print the output\n",
    "    print(\"Content of output.txt:\")\n",
    "    with open(output_filename, 'r') as file:\n",
    "        print(file.read())\n",
    "\n",
    "if __name__ == \"__main__\":\n",
    "    main()"
   ]
  },
  {
   "cell_type": "code",
   "execution_count": 3,
   "id": "736dbdb6-44ab-483c-a5f3-bad1bd1fbc4b",
   "metadata": {},
   "outputs": [
    {
     "name": "stdin",
     "output_type": "stream",
     "text": [
      "Enter height in inches 150\n",
      "Enter height in inches 145\n",
      "Enter height in inches 148\n",
      "Enter height in inches 155\n",
      "Enter height in inches \n"
     ]
    },
    {
     "name": "stdout",
     "output_type": "stream",
     "text": [
      "Heights in inches [150.0, 145.0, 148.0, 155.0]\n",
      "Height in centimeters using Nested Interactive loop. [68.06, 65.79, 67.15, 70.33]\n",
      "Height in centimeters using List comprehensions [68.06, 65.79, 67.15, 70.33]\n"
     ]
    }
   ],
   "source": [
    "# Defining main function\n",
    "def main():\n",
    "    # creating an empty list to store values of heights in inches\n",
    "    inches=[]\n",
    "    while True:\n",
    "        # Taking input values from user\n",
    "        x=(input(\"Enter height in inches\"))\n",
    "        if x==\"\":\n",
    "            break\n",
    "        # Appending input values into list\n",
    "        inches.append(float(x))\n",
    "    print(\"Heights in inches\",inches)\n",
    "\n",
    "    # Coverting heights from inches to centimeters using nested loop\n",
    "    cm_1=[]\n",
    "    for i in inches:\n",
    "        #storing the converted values in new list\n",
    "        cm_1.append(round(i/2.204,2))\n",
    "    print(\"Height in centimeters using Nested Interactive loop.\",cm_1)\n",
    "\n",
    "    # Coverting heights from inches to centimeters using list comprehensions\n",
    "    cm_2=[round(x/2.204,2) for x in inches]\n",
    "    print(\"Height in centimeters using List comprehensions\",cm_2)\n",
    "    \n",
    "\n",
    "\n",
    "if __name__ == \"__main__\":\n",
    "    main()\n",
    "\n"
   ]
  },
  {
   "cell_type": "code",
   "execution_count": null,
   "id": "3c666bc7-c152-4a4a-a7cc-f13fc9f8dca4",
   "metadata": {},
   "outputs": [],
   "source": []
  }
 ],
 "metadata": {
  "kernelspec": {
   "display_name": "Python 3 (ipykernel)",
   "language": "python",
   "name": "python3"
  },
  "language_info": {
   "codemirror_mode": {
    "name": "ipython",
    "version": 3
   },
   "file_extension": ".py",
   "mimetype": "text/x-python",
   "name": "python",
   "nbconvert_exporter": "python",
   "pygments_lexer": "ipython3",
   "version": "3.11.9"
  }
 },
 "nbformat": 4,
 "nbformat_minor": 5
}
