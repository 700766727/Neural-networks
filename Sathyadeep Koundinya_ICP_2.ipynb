{
 "cells": [
  {
   "cell_type": "code",
   "execution_count": 14,
   "id": "0ca7341f-ba2b-460b-bdb9-ec621fe510f5",
   "metadata": {},
   "outputs": [
    {
     "name": "stdout",
     "output_type": "stream",
     "text": [
      "25000.0\n",
      "25000.0\n"
     ]
    }
   ],
   "source": [
    "class Employee:\n",
    "    #Create a data member to count the number of Employees\n",
    "    Employees=0\n",
    "    salaries=[]\n",
    "    \n",
    "    #Create a constructor to initialize name, family, salary, department\n",
    "    def __init__(self, name, family, salary, department):\n",
    "        self.name=name\n",
    "        self.family=family\n",
    "        self.salary=salary\n",
    "        self.department=department\n",
    "        #Incrementing Employee Count        \n",
    "        Employee.Employees+= 1\n",
    "        #Appending them to a list        \n",
    "        Employee.salaries.append(self.salary)\n",
    "    #Create a function to average salary\n",
    "    def average_salary(self):\n",
    "        return sum(Employee.salaries)/Employee.Employees   \n",
    "#Create a Fulltime Employee class and it should inherit the properties of Employee class\n",
    "class FulltimeEmployee(Employee):\n",
    "    pass\n",
    "#Create the instances of Fulltime Employee class and Employee class and call their member functions\n",
    "e1=Employee(\"Deepu\",\"Koundinya\",30000,\"IT\")\n",
    "e2=FulltimeEmployee(\"Satish\",\"kumar\",20000,\"Marketing\")\n",
    "\n",
    "#Using the same function in inherited class\n",
    "print(e1.average_salary())\n",
    "print(e2.average_salary())"
   ]
  },
  {
   "cell_type": "code",
   "execution_count": 10,
   "id": "121bb270-44f4-48ce-baca-0a75d4e7d870",
   "metadata": {},
   "outputs": [
    {
     "name": "stdout",
     "output_type": "stream",
     "text": [
      "Vector is  [ 6.6   2.24 10.27  9.91 12.1   5.85 16.73  9.87 13.22  5.19  6.69 11.99\n",
      "  2.48 10.81  4.55 11.55 15.69 13.25  9.46  4.36]\n",
      "Reshaped array is [[ 6.6   2.24 10.27  9.91 12.1 ]\n",
      " [ 5.85 16.73  9.87 13.22  5.19]\n",
      " [ 6.69 11.99  2.48 10.81  4.55]\n",
      " [11.55 15.69 13.25  9.46  4.36]]\n",
      "[[ 6.6   2.24 10.27  9.91  0.  ]\n",
      " [ 5.85  0.    9.87 13.22  5.19]\n",
      " [ 6.69  0.    2.48 10.81  4.55]\n",
      " [11.55  0.   13.25  9.46  4.36]]\n"
     ]
    }
   ],
   "source": [
    "# Importing numpy library\n",
    "import numpy as np\n",
    "# Creating a vector of size 20 with random float values ranging between 1 to 20\n",
    "vector=np.round(np.random.uniform(1,20,size=20),decimals=2)\n",
    "print(\"Vector is \",vector)\n",
    "# Reshaping the existing vector to 4*5 size\n",
    "new_vector=vector.reshape(4,5)\n",
    "print(\"Reshaped array is\",new_vector)\n",
    "# Replace the max in each row by 0 (without using a for loop)\n",
    "final_vector=np.where(new_vector==np.max(new_vector,axis=1,keepdims=True), 0, new_vector)\n",
    "print(final_vector)"
   ]
  },
  {
   "cell_type": "code",
   "execution_count": null,
   "id": "b173b7ba-acad-41cb-9d64-139a67a1c2f9",
   "metadata": {},
   "outputs": [],
   "source": []
  }
 ],
 "metadata": {
  "kernelspec": {
   "display_name": "Python 3 (ipykernel)",
   "language": "python",
   "name": "python3"
  },
  "language_info": {
   "codemirror_mode": {
    "name": "ipython",
    "version": 3
   },
   "file_extension": ".py",
   "mimetype": "text/x-python",
   "name": "python",
   "nbconvert_exporter": "python",
   "pygments_lexer": "ipython3",
   "version": "3.11.9"
  }
 },
 "nbformat": 4,
 "nbformat_minor": 5
}
